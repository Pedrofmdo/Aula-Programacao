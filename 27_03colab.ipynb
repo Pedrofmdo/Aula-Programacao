{
  "nbformat": 4,
  "nbformat_minor": 0,
  "metadata": {
    "colab": {
      "provenance": [],
      "authorship_tag": "ABX9TyMCeWIaFQHkCqfvKFaa6pwC",
      "include_colab_link": true
    },
    "kernelspec": {
      "name": "python3",
      "display_name": "Python 3"
    },
    "language_info": {
      "name": "python"
    }
  },
  "cells": [
    {
      "cell_type": "markdown",
      "metadata": {
        "id": "view-in-github",
        "colab_type": "text"
      },
      "source": [
        "<a href=\"https://colab.research.google.com/github/Pedrofmdo/Aula-Programacao/blob/main/27_03colab.ipynb\" target=\"_parent\"><img src=\"https://colab.research.google.com/assets/colab-badge.svg\" alt=\"Open In Colab\"/></a>"
      ]
    },
    {
      "cell_type": "code",
      "source": [
        "notas = [8, 7, 6, 5, 4,]"
      ],
      "metadata": {
        "id": "w9rntZawHzRn"
      },
      "execution_count": 60,
      "outputs": []
    },
    {
      "cell_type": "code",
      "source": [
        "for nota in notas:\n",
        " if(nota >= 7):\n",
        "   print(nota)"
      ],
      "metadata": {
        "colab": {
          "base_uri": "https://localhost:8080/"
        },
        "id": "Ec4g4xALHdAH",
        "outputId": "1fe92df6-2153-4cde-8c0c-0aa133cebb41"
      },
      "execution_count": 61,
      "outputs": [
        {
          "output_type": "stream",
          "name": "stdout",
          "text": [
            "8\n",
            "7\n"
          ]
        }
      ]
    },
    {
      "cell_type": "code",
      "source": [
        " #Exiba a quantidade de aprovados e de reprovado\n",
        "  \n",
        "aprovados = 0\n",
        "reprovados = 0\n",
        "for nota in notas:\n",
        "    if(nota>=7):\n",
        "      aprovados +=1\n",
        "    else:\n",
        "      reprovados +=1\n",
        "\n",
        "print('Aprovados: ', aprovados)\n",
        "print('Reprovados:', reprovados)"
      ],
      "metadata": {
        "colab": {
          "base_uri": "https://localhost:8080/"
        },
        "id": "7cTjloq0JnKa",
        "outputId": "4cbff9cd-e823-4f27-c984-00baccd83d20"
      },
      "execution_count": 114,
      "outputs": [
        {
          "output_type": "stream",
          "name": "stdout",
          "text": [
            "Aprovados:  2\n",
            "Reprovados: 3\n"
          ]
        }
      ]
    },
    {
      "cell_type": "code",
      "source": [
        "#Criar um progama que lista os numeros de 1 a 10 \n",
        "#para isto, pecisaremos de um contador\n",
        "cont = 1\n",
        "numeros =[]\n",
        "\n",
        "while(cont<= 10):\n",
        "  numeros.append(cont)\n",
        "  cont += 1\n",
        "\n",
        "numeros"
      ],
      "metadata": {
        "colab": {
          "base_uri": "https://localhost:8080/"
        },
        "id": "GR5hU0WUQyo8",
        "outputId": "3090befd-3719-4e84-966d-5986986f06a9"
      },
      "execution_count": 125,
      "outputs": [
        {
          "output_type": "execute_result",
          "data": {
            "text/plain": [
              "[1, 2, 3, 4, 5, 6, 7, 8, 9, 10]"
            ]
          },
          "metadata": {},
          "execution_count": 125
        }
      ]
    },
    {
      "cell_type": "code",
      "source": [
        "#modifique o codigo anterio, para soliciitar um tamanho de lista \n",
        "#x e com laço while, crie a nova lista do tamanho desejado.\n",
        "\n",
        "cont = 1\n",
        "tamanho= int(input('digite ai o tamanho da lista: '))\n",
        "numeros =[]\n",
        "\n",
        "while(cont<= tamanho):\n",
        "  numeros.append(cont)\n",
        "  cont += 1\n",
        "\n",
        "numeros"
      ],
      "metadata": {
        "id": "udeDy_TcQywK"
      },
      "execution_count": null,
      "outputs": []
    },
    {
      "cell_type": "code",
      "source": [
        "num= int(input('Digite um numero:'))\n",
        "while(num >=0):\n",
        "  if(num % 2 == 0):\n",
        "    print('e par')\n",
        "    num= int(input('Digite um numero:'))\n",
        "  else:\n",
        "    print('impar')\n",
        "    num= int(input('Digite um numero:'))\n",
        "\n",
        "print('Acabou')"
      ],
      "metadata": {
        "colab": {
          "base_uri": "https://localhost:8080/"
        },
        "id": "x4avJIchaBWa",
        "outputId": "26704649-a147-42a3-c5d3-bada57b30169"
      },
      "execution_count": null,
      "outputs": [
        {
          "output_type": "stream",
          "name": "stdout",
          "text": [
            "Digite um numero:23\n",
            "impar\n"
          ]
        }
      ]
    }
  ]
}