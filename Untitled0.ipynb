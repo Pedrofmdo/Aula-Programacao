{
  "nbformat": 4,
  "nbformat_minor": 0,
  "metadata": {
    "colab": {
      "provenance": [],
      "authorship_tag": "ABX9TyOoNC6Z2DiC2sXWIkgtZakE",
      "include_colab_link": true
    },
    "kernelspec": {
      "name": "python3",
      "display_name": "Python 3"
    },
    "language_info": {
      "name": "python"
    }
  },
  "cells": [
    {
      "cell_type": "markdown",
      "metadata": {
        "id": "view-in-github",
        "colab_type": "text"
      },
      "source": [
        "<a href=\"https://colab.research.google.com/github/Pedrofmdo/Aula-Programacao/blob/main/Untitled0.ipynb\" target=\"_parent\"><img src=\"https://colab.research.google.com/assets/colab-badge.svg\" alt=\"Open In Colab\"/></a>"
      ]
    },
    {
      "cell_type": "code",
      "execution_count": 5,
      "metadata": {
        "colab": {
          "base_uri": "https://localhost:8080/"
        },
        "id": "qL5AbkZl4TCF",
        "outputId": "987c6faa-f926-4ae6-b751-2081a427f1e6"
      },
      "outputs": [
        {
          "output_type": "stream",
          "name": "stdout",
          "text": [
            "digite a idade do atleta!22\n",
            "Sênior\n"
          ]
        }
      ],
      "source": [
        "Idade = int(input('digite a idade do atleta!'))\n",
        "\n",
        "if(Idade < 18.5):\n",
        "  print('')\n",
        "elif(Idade < 18):\n",
        "  print('Juvenil')\n",
        "else:\n",
        "  print('Sênior')\n",
        "  "
      ]
    },
    {
      "cell_type": "code",
      "source": [],
      "metadata": {
        "id": "1B5S9-cO8xn7"
      },
      "execution_count": null,
      "outputs": []
    },
    {
      "cell_type": "code",
      "source": [],
      "metadata": {
        "id": "_6fYYS9T8xr7"
      },
      "execution_count": null,
      "outputs": []
    }
  ]
}